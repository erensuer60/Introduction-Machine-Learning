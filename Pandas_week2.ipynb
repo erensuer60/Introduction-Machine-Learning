{
 "cells": [
  {
   "cell_type": "code",
   "execution_count": 34,
   "id": "e289dd4c",
   "metadata": {},
   "outputs": [
    {
     "name": "stdout",
     "output_type": "stream",
     "text": [
      "Requirement already satisfied: pandas in c:\\users\\yunus\\appdata\\local\\programs\\python\\python311\\lib\\site-packages (1.5.3)\n",
      "Requirement already satisfied: python-dateutil>=2.8.1 in c:\\users\\yunus\\appdata\\local\\programs\\python\\python311\\lib\\site-packages (from pandas) (2.8.2)\n",
      "Requirement already satisfied: pytz>=2020.1 in c:\\users\\yunus\\appdata\\local\\programs\\python\\python311\\lib\\site-packages (from pandas) (2022.7.1)\n",
      "Requirement already satisfied: numpy>=1.21.0 in c:\\users\\yunus\\appdata\\local\\programs\\python\\python311\\lib\\site-packages (from pandas) (1.24.2)\n",
      "Requirement already satisfied: six>=1.5 in c:\\users\\yunus\\appdata\\local\\programs\\python\\python311\\lib\\site-packages (from python-dateutil>=2.8.1->pandas) (1.16.0)\n",
      "Note: you may need to restart the kernel to use updated packages.\n"
     ]
    }
   ],
   "source": [
    "pip install pandas "
   ]
  },
  {
   "cell_type": "code",
   "execution_count": 3,
   "id": "e52fc2d8",
   "metadata": {},
   "outputs": [
    {
     "name": "stdout",
     "output_type": "stream",
     "text": [
      "     name   age   note\n",
      "0   yunus  24.0  128.0\n",
      "1     ali  25.0  526.0\n",
      "2   ahmet  27.0  778.0\n",
      "3  mehmet  28.0  754.0\n",
      "4   engin  29.0    NaN\n",
      "5   erkan   NaN  809.0\n"
     ]
    }
   ],
   "source": [
    "import pandas as pd\n",
    "dictionary = {\"name\":[\"yunus\",\"ali\",\"ahmet\",\"mehmet\",\"engin\",\"erkan\"],\n",
    "             \"age\":[24,25,27,28,29,None],\n",
    "             \"note\":[128,526,778,754,None,809]}\n",
    "\n",
    "datafram1 = pd.DataFrame(dictionary) \n",
    "print(dataframe1)"
   ]
  },
  {
   "cell_type": "code",
   "execution_count": 4,
   "id": "2be66a38",
   "metadata": {},
   "outputs": [
    {
     "name": "stdout",
     "output_type": "stream",
     "text": [
      "     name   age   note\n",
      "0   yunus  24.0  128.0\n",
      "1     ali  25.0  526.0\n",
      "2   ahmet  27.0  778.0\n",
      "3  mehmet  28.0  754.0\n",
      "4   engin  29.0    NaN\n"
     ]
    }
   ],
   "source": [
    "head = datafram1.head() \n",
    "print(head)"
   ]
  },
  {
   "cell_type": "code",
   "execution_count": 9,
   "id": "72d371d6",
   "metadata": {},
   "outputs": [
    {
     "name": "stdout",
     "output_type": "stream",
     "text": [
      "     name   age   note\n",
      "1     ali  25.0  526.0\n",
      "2   ahmet  27.0  778.0\n",
      "3  mehmet  28.0  754.0\n",
      "4   engin  29.0    NaN\n",
      "5   erkan   NaN  809.0\n",
      "Index(['name', 'age', 'note'], dtype='object')\n"
     ]
    }
   ],
   "source": [
    "tail = datafram1.tail()\n",
    "print(tail)\n",
    "print(datafram1.columns)\n"
   ]
  },
  {
   "cell_type": "code",
   "execution_count": 11,
   "id": "cf95246f",
   "metadata": {},
   "outputs": [
    {
     "name": "stdout",
     "output_type": "stream",
     "text": [
      "<class 'pandas.core.frame.DataFrame'>\n",
      "RangeIndex: 6 entries, 0 to 5\n",
      "Data columns (total 3 columns):\n",
      " #   Column  Non-Null Count  Dtype  \n",
      "---  ------  --------------  -----  \n",
      " 0   name    6 non-null      object \n",
      " 1   age     5 non-null      float64\n",
      " 2   note    5 non-null      float64\n",
      "dtypes: float64(2), object(1)\n",
      "memory usage: 276.0+ bytes\n",
      "None\n",
      "-----------------------------------\n",
      "name     object\n",
      "age     float64\n",
      "note    float64\n",
      "dtype: object\n"
     ]
    }
   ],
   "source": [
    "print(datafram1.info())\n",
    "print(\"-----------------------------------\")\n",
    "print(datafram1.dtypes)"
   ]
  },
  {
   "cell_type": "code",
   "execution_count": 13,
   "id": "392531b5",
   "metadata": {},
   "outputs": [
    {
     "name": "stdout",
     "output_type": "stream",
     "text": [
      "             age        note\n",
      "count   5.000000    5.000000\n",
      "mean   26.600000  599.000000\n",
      "std     2.073644  286.066426\n",
      "min    24.000000  128.000000\n",
      "25%    25.000000  526.000000\n",
      "50%    27.000000  754.000000\n",
      "75%    28.000000  778.000000\n",
      "max    29.000000  809.000000\n"
     ]
    }
   ],
   "source": [
    "print(datafram1.describe())"
   ]
  },
  {
   "cell_type": "code",
   "execution_count": 15,
   "id": "5c08ccd4",
   "metadata": {},
   "outputs": [
    {
     "name": "stdout",
     "output_type": "stream",
     "text": [
      "0     yunus\n",
      "1       ali\n",
      "2     ahmet\n",
      "3    mehmet\n",
      "4     engin\n",
      "5     erkan\n",
      "Name: name, dtype: object\n",
      "-----------------------------------\n",
      "0    24.0\n",
      "1    25.0\n",
      "2    27.0\n",
      "3    28.0\n",
      "4    29.0\n",
      "5     NaN\n",
      "Name: age, dtype: float64\n",
      "-----------------------------------\n",
      "0    24.0\n",
      "1    25.0\n",
      "2    27.0\n",
      "3    28.0\n",
      "Name: age, dtype: float64\n",
      "-----------------------------------\n",
      "     name   age   note\n",
      "0   yunus  24.0  128.0\n",
      "1     ali  25.0  526.0\n",
      "2   ahmet  27.0  778.0\n",
      "3  mehmet  28.0  754.0\n",
      "-----------------------------------\n",
      "     name   age   note  yeni_future\n",
      "5   erkan   NaN  809.0            6\n",
      "4   engin  29.0    NaN            5\n",
      "3  mehmet  28.0  754.0            4\n",
      "2   ahmet  27.0  778.0            3\n",
      "1     ali  25.0  526.0            2\n",
      "0   yunus  24.0  128.0            1\n"
     ]
    }
   ],
   "source": [
    "print(datafram1[\"name\"]) \n",
    "print(\"-----------------------------------\")\n",
    "print(datafram1.loc[:, \"age\"]) \n",
    "print(\"-----------------------------------\")\n",
    "datafram1[\"yeni_future\"] = [1,2,3,4,5,6]\n",
    "print(datafram1.loc[:3,\"age\"]) \n",
    "print(\"-----------------------------------\")\n",
    "print(datafram1.loc[:3, \"name\":\"note\"]) \n",
    "print(\"-----------------------------------\")\n",
    "print(datafram1.loc[::-1])"
   ]
  },
  {
   "cell_type": "code",
   "execution_count": 16,
   "id": "9898794f",
   "metadata": {},
   "outputs": [
    {
     "name": "stdout",
     "output_type": "stream",
     "text": [
      "0    1\n",
      "1    2\n",
      "2    3\n",
      "3    4\n",
      "4    5\n",
      "5    6\n",
      "Name: yeni_future, dtype: int64\n"
     ]
    }
   ],
   "source": [
    "print(datafram1.yeni_future)"
   ]
  },
  {
   "cell_type": "code",
   "execution_count": 22,
   "id": "2b1c7c18",
   "metadata": {},
   "outputs": [
    {
     "name": "stdout",
     "output_type": "stream",
     "text": [
      "0    24.0\n",
      "1    25.0\n",
      "2    27.0\n",
      "3    28.0\n",
      "4    29.0\n",
      "5     NaN\n",
      "Name: age, dtype: float64\n",
      "-----------------------------------\n",
      "0    24.0\n",
      "1    25.0\n",
      "2    27.0\n",
      "3    28.0\n",
      "Name: age, dtype: float64\n",
      "-----------------------------------\n",
      "     name   age   note\n",
      "0   yunus  24.0  128.0\n",
      "1     ali  25.0  526.0\n",
      "2   ahmet  27.0  778.0\n",
      "3  mehmet  28.0  754.0\n",
      "-----------------------------------\n",
      "     name   note\n",
      "0   yunus  128.0\n",
      "1     ali  526.0\n",
      "2   ahmet  778.0\n",
      "3  mehmet  754.0\n",
      "-----------------------------------\n",
      "     name   age   note  yeni_future\n",
      "5   erkan   NaN  809.0            6\n",
      "4   engin  29.0    NaN            5\n",
      "3  mehmet  28.0  754.0            4\n",
      "2   ahmet  27.0  778.0            3\n",
      "1     ali  25.0  526.0            2\n",
      "0   yunus  24.0  128.0            1\n",
      "-----------------------------------\n",
      "     name   age\n",
      "0   yunus  24.0\n",
      "1     ali  25.0\n",
      "2   ahmet  27.0\n",
      "3  mehmet  28.0\n",
      "4   engin  29.0\n",
      "5   erkan   NaN\n",
      "-----------------------------------\n",
      "    note\n",
      "0  128.0\n",
      "1  526.0\n",
      "2  778.0\n",
      "3  754.0\n",
      "4    NaN\n",
      "5  809.0\n"
     ]
    }
   ],
   "source": [
    "print(datafram1.loc[:, \"age\"])\n",
    "print(\"-----------------------------------\")\n",
    "print(datafram1.loc[:3,\"age\"])\n",
    "print(\"-----------------------------------\")\n",
    "print(datafram1.loc[:3, \"name\":\"note\"])\n",
    "print(\"-----------------------------------\")\n",
    "print(datafram1.loc[:3, [\"name\",\"note\"]])\n",
    "print(\"-----------------------------------\")\n",
    "print(datafram1.loc[::-1])\n",
    "print(\"-----------------------------------\")\n",
    "print(datafram1.loc[:,:\"age\"])\n",
    "print(\"-----------------------------------\")\n",
    "print(datafram1.iloc[:,[2]])"
   ]
  },
  {
   "cell_type": "code",
   "execution_count": 30,
   "id": "d52ee241",
   "metadata": {},
   "outputs": [
    {
     "name": "stdout",
     "output_type": "stream",
     "text": [
      "    age  true/false\n",
      "0  24.0        True\n",
      "1  25.0        True\n",
      "2  27.0        True\n",
      "3  28.0        True\n",
      "4  29.0        True\n",
      "5   NaN       False\n"
     ]
    }
   ],
   "source": [
    "filter1 = datafram1.age>10                \n",
    "datafram1[\"true/false\"]= filter1\n",
    "print(datafram1.loc[:,[\"age\",\"true/false\"]])"
   ]
  },
  {
   "cell_type": "code",
   "execution_count": 26,
   "id": "d874cde1",
   "metadata": {},
   "outputs": [
    {
     "data": {
      "text/plain": [
       "pandas.core.series.Series"
      ]
     },
     "execution_count": 26,
     "metadata": {},
     "output_type": "execute_result"
    }
   ],
   "source": [
    "type(filter1)"
   ]
  },
  {
   "cell_type": "code",
   "execution_count": 27,
   "id": "48f2a145",
   "metadata": {},
   "outputs": [
    {
     "name": "stdout",
     "output_type": "stream",
     "text": [
      "     name   age   note  yeni_future   bol  true/false\n",
      "0   yunus  24.0  128.0            1  True        True\n",
      "1     ali  25.0  526.0            2  True        True\n",
      "2   ahmet  27.0  778.0            3  True        True\n",
      "3  mehmet  28.0  754.0            4  True        True\n",
      "4   engin  29.0    NaN            5  True        True\n"
     ]
    }
   ],
   "source": [
    "filter_data= datafram1[filter1] \n",
    "print(filter_data)"
   ]
  },
  {
   "cell_type": "code",
   "execution_count": 28,
   "id": "d1e41513",
   "metadata": {},
   "outputs": [
    {
     "name": "stdout",
     "output_type": "stream",
     "text": [
      "     name   age   note  yeni_future   bol  true/false\n",
      "0   yunus  24.0  128.0            1  True        True\n",
      "1     ali  25.0  526.0            2  True        True\n",
      "2   ahmet  27.0  778.0            3  True        True\n",
      "3  mehmet  28.0  754.0            4  True        True\n"
     ]
    }
   ],
   "source": [
    "filter2 = datafram1.note>100\n",
    "filter_data2 = datafram1[filter2&filter1] \n",
    "print(filter_data2)"
   ]
  },
  {
   "cell_type": "code",
   "execution_count": 31,
   "id": "2929b87a",
   "metadata": {
    "scrolled": true
   },
   "outputs": [
    {
     "data": {
      "text/html": [
       "<div>\n",
       "<style scoped>\n",
       "    .dataframe tbody tr th:only-of-type {\n",
       "        vertical-align: middle;\n",
       "    }\n",
       "\n",
       "    .dataframe tbody tr th {\n",
       "        vertical-align: top;\n",
       "    }\n",
       "\n",
       "    .dataframe thead th {\n",
       "        text-align: right;\n",
       "    }\n",
       "</style>\n",
       "<table border=\"1\" class=\"dataframe\">\n",
       "  <thead>\n",
       "    <tr style=\"text-align: right;\">\n",
       "      <th></th>\n",
       "      <th>name</th>\n",
       "      <th>age</th>\n",
       "      <th>note</th>\n",
       "      <th>yeni_future</th>\n",
       "      <th>bol</th>\n",
       "      <th>true/false</th>\n",
       "    </tr>\n",
       "  </thead>\n",
       "  <tbody>\n",
       "    <tr>\n",
       "      <th>0</th>\n",
       "      <td>yunus</td>\n",
       "      <td>24.0</td>\n",
       "      <td>128.0</td>\n",
       "      <td>1</td>\n",
       "      <td>True</td>\n",
       "      <td>True</td>\n",
       "    </tr>\n",
       "    <tr>\n",
       "      <th>1</th>\n",
       "      <td>ali</td>\n",
       "      <td>25.0</td>\n",
       "      <td>526.0</td>\n",
       "      <td>2</td>\n",
       "      <td>True</td>\n",
       "      <td>True</td>\n",
       "    </tr>\n",
       "    <tr>\n",
       "      <th>2</th>\n",
       "      <td>ahmet</td>\n",
       "      <td>27.0</td>\n",
       "      <td>778.0</td>\n",
       "      <td>3</td>\n",
       "      <td>True</td>\n",
       "      <td>True</td>\n",
       "    </tr>\n",
       "    <tr>\n",
       "      <th>3</th>\n",
       "      <td>mehmet</td>\n",
       "      <td>28.0</td>\n",
       "      <td>754.0</td>\n",
       "      <td>4</td>\n",
       "      <td>True</td>\n",
       "      <td>True</td>\n",
       "    </tr>\n",
       "    <tr>\n",
       "      <th>4</th>\n",
       "      <td>engin</td>\n",
       "      <td>29.0</td>\n",
       "      <td>NaN</td>\n",
       "      <td>5</td>\n",
       "      <td>True</td>\n",
       "      <td>True</td>\n",
       "    </tr>\n",
       "  </tbody>\n",
       "</table>\n",
       "</div>"
      ],
      "text/plain": [
       "     name   age   note  yeni_future   bol  true/false\n",
       "0   yunus  24.0  128.0            1  True        True\n",
       "1     ali  25.0  526.0            2  True        True\n",
       "2   ahmet  27.0  778.0            3  True        True\n",
       "3  mehmet  28.0  754.0            4  True        True\n",
       "4   engin  29.0    NaN            5  True        True"
      ]
     },
     "execution_count": 31,
     "metadata": {},
     "output_type": "execute_result"
    }
   ],
   "source": [
    "datafram1[datafram1.age>20]"
   ]
  },
  {
   "cell_type": "code",
   "execution_count": 35,
   "id": "bbde7fda",
   "metadata": {},
   "outputs": [
    {
     "name": "stdout",
     "output_type": "stream",
     "text": [
      "Requirement already satisfied: numpy in c:\\users\\yunus\\appdata\\local\\programs\\python\\python311\\lib\\site-packages (1.24.2)\n"
     ]
    }
   ],
   "source": [
    "!pip install numpy"
   ]
  },
  {
   "cell_type": "code",
   "execution_count": 36,
   "id": "25877366",
   "metadata": {},
   "outputs": [
    {
     "name": "stdout",
     "output_type": "stream",
     "text": [
      "599.0\n",
      "599.0\n"
     ]
    }
   ],
   "source": [
    "import numpy as np\n",
    "ort = datafram1.note.mean()\n",
    "print(ort)\n",
    "ort_np= np.mean(datafram1.note)\n",
    "print(ort_np)"
   ]
  },
  {
   "cell_type": "code",
   "execution_count": 37,
   "id": "430c9183",
   "metadata": {},
   "outputs": [
    {
     "data": {
      "text/html": [
       "<div>\n",
       "<style scoped>\n",
       "    .dataframe tbody tr th:only-of-type {\n",
       "        vertical-align: middle;\n",
       "    }\n",
       "\n",
       "    .dataframe tbody tr th {\n",
       "        vertical-align: top;\n",
       "    }\n",
       "\n",
       "    .dataframe thead th {\n",
       "        text-align: right;\n",
       "    }\n",
       "</style>\n",
       "<table border=\"1\" class=\"dataframe\">\n",
       "  <thead>\n",
       "    <tr style=\"text-align: right;\">\n",
       "      <th></th>\n",
       "      <th>name</th>\n",
       "      <th>age</th>\n",
       "      <th>note</th>\n",
       "      <th>yeni_future</th>\n",
       "      <th>bol</th>\n",
       "      <th>true/false</th>\n",
       "    </tr>\n",
       "  </thead>\n",
       "  <tbody>\n",
       "    <tr>\n",
       "      <th>0</th>\n",
       "      <td>yunus</td>\n",
       "      <td>24.0</td>\n",
       "      <td>128.0</td>\n",
       "      <td>1</td>\n",
       "      <td>True</td>\n",
       "      <td>True</td>\n",
       "    </tr>\n",
       "    <tr>\n",
       "      <th>1</th>\n",
       "      <td>ali</td>\n",
       "      <td>25.0</td>\n",
       "      <td>526.0</td>\n",
       "      <td>2</td>\n",
       "      <td>True</td>\n",
       "      <td>True</td>\n",
       "    </tr>\n",
       "    <tr>\n",
       "      <th>2</th>\n",
       "      <td>ahmet</td>\n",
       "      <td>27.0</td>\n",
       "      <td>778.0</td>\n",
       "      <td>3</td>\n",
       "      <td>True</td>\n",
       "      <td>True</td>\n",
       "    </tr>\n",
       "    <tr>\n",
       "      <th>3</th>\n",
       "      <td>mehmet</td>\n",
       "      <td>28.0</td>\n",
       "      <td>754.0</td>\n",
       "      <td>4</td>\n",
       "      <td>True</td>\n",
       "      <td>True</td>\n",
       "    </tr>\n",
       "  </tbody>\n",
       "</table>\n",
       "</div>"
      ],
      "text/plain": [
       "     name   age   note  yeni_future   bol  true/false\n",
       "0   yunus  24.0  128.0            1  True        True\n",
       "1     ali  25.0  526.0            2  True        True\n",
       "2   ahmet  27.0  778.0            3  True        True\n",
       "3  mehmet  28.0  754.0            4  True        True"
      ]
     },
     "execution_count": 37,
     "metadata": {},
     "output_type": "execute_result"
    }
   ],
   "source": [
    "datafram1.dropna(inplace=True)\n",
    "datafram1"
   ]
  },
  {
   "cell_type": "code",
   "execution_count": 38,
   "id": "7191023e",
   "metadata": {},
   "outputs": [
    {
     "name": "stdout",
     "output_type": "stream",
     "text": [
      "546.5\n"
     ]
    },
    {
     "data": {
      "text/html": [
       "<div>\n",
       "<style scoped>\n",
       "    .dataframe tbody tr th:only-of-type {\n",
       "        vertical-align: middle;\n",
       "    }\n",
       "\n",
       "    .dataframe tbody tr th {\n",
       "        vertical-align: top;\n",
       "    }\n",
       "\n",
       "    .dataframe thead th {\n",
       "        text-align: right;\n",
       "    }\n",
       "</style>\n",
       "<table border=\"1\" class=\"dataframe\">\n",
       "  <thead>\n",
       "    <tr style=\"text-align: right;\">\n",
       "      <th></th>\n",
       "      <th>name</th>\n",
       "      <th>age</th>\n",
       "      <th>note</th>\n",
       "      <th>yeni_future</th>\n",
       "      <th>bol</th>\n",
       "      <th>true/false</th>\n",
       "      <th>ortalama</th>\n",
       "    </tr>\n",
       "  </thead>\n",
       "  <tbody>\n",
       "    <tr>\n",
       "      <th>0</th>\n",
       "      <td>yunus</td>\n",
       "      <td>24.0</td>\n",
       "      <td>128.0</td>\n",
       "      <td>1</td>\n",
       "      <td>True</td>\n",
       "      <td>True</td>\n",
       "      <td>ortalamanın altında</td>\n",
       "    </tr>\n",
       "    <tr>\n",
       "      <th>1</th>\n",
       "      <td>ali</td>\n",
       "      <td>25.0</td>\n",
       "      <td>526.0</td>\n",
       "      <td>2</td>\n",
       "      <td>True</td>\n",
       "      <td>True</td>\n",
       "      <td>ortalamanın altında</td>\n",
       "    </tr>\n",
       "    <tr>\n",
       "      <th>2</th>\n",
       "      <td>ahmet</td>\n",
       "      <td>27.0</td>\n",
       "      <td>778.0</td>\n",
       "      <td>3</td>\n",
       "      <td>True</td>\n",
       "      <td>True</td>\n",
       "      <td>ortalamanın üstünde</td>\n",
       "    </tr>\n",
       "    <tr>\n",
       "      <th>3</th>\n",
       "      <td>mehmet</td>\n",
       "      <td>28.0</td>\n",
       "      <td>754.0</td>\n",
       "      <td>4</td>\n",
       "      <td>True</td>\n",
       "      <td>True</td>\n",
       "      <td>ortalamanın üstünde</td>\n",
       "    </tr>\n",
       "  </tbody>\n",
       "</table>\n",
       "</div>"
      ],
      "text/plain": [
       "     name   age   note  yeni_future   bol  true/false             ortalama\n",
       "0   yunus  24.0  128.0            1  True        True  ortalamanın altında\n",
       "1     ali  25.0  526.0            2  True        True  ortalamanın altında\n",
       "2   ahmet  27.0  778.0            3  True        True  ortalamanın üstünde\n",
       "3  mehmet  28.0  754.0            4  True        True  ortalamanın üstünde"
      ]
     },
     "execution_count": 38,
     "metadata": {},
     "output_type": "execute_result"
    }
   ],
   "source": [
    "print(datafram1.note.mean())\n",
    "datafram1[\"ortalama\"]= [\"ortalamanın altında\" if datafram1.note.mean()>each else \"ortalamanın üstünde\" for each in datafram1.note]\n",
    "datafram1"
   ]
  },
  {
   "cell_type": "code",
   "execution_count": 39,
   "id": "527b034b",
   "metadata": {},
   "outputs": [
    {
     "data": {
      "text/plain": [
       "Index(['NAME', 'AGE', 'NOTE', 'YENI_FUTURE', 'BOL', 'TRUE/FALSE', 'ORTALAMA'], dtype='object')"
      ]
     },
     "execution_count": 39,
     "metadata": {},
     "output_type": "execute_result"
    }
   ],
   "source": [
    "datafram1.columns = [each.upper() for each in datafram1.columns]\n",
    "datafram1.columns"
   ]
  },
  {
   "cell_type": "code",
   "execution_count": 41,
   "id": "f09084de",
   "metadata": {},
   "outputs": [
    {
     "data": {
      "text/html": [
       "<div>\n",
       "<style scoped>\n",
       "    .dataframe tbody tr th:only-of-type {\n",
       "        vertical-align: middle;\n",
       "    }\n",
       "\n",
       "    .dataframe tbody tr th {\n",
       "        vertical-align: top;\n",
       "    }\n",
       "\n",
       "    .dataframe thead th {\n",
       "        text-align: right;\n",
       "    }\n",
       "</style>\n",
       "<table border=\"1\" class=\"dataframe\">\n",
       "  <thead>\n",
       "    <tr style=\"text-align: right;\">\n",
       "      <th></th>\n",
       "      <th>NAME</th>\n",
       "      <th>AGE</th>\n",
       "      <th>NOTE</th>\n",
       "      <th>YENI_FUTURE</th>\n",
       "      <th>BOL</th>\n",
       "      <th>TRUE/FALSE</th>\n",
       "      <th>ORTALAMA</th>\n",
       "    </tr>\n",
       "  </thead>\n",
       "  <tbody>\n",
       "    <tr>\n",
       "      <th>0</th>\n",
       "      <td>yunus</td>\n",
       "      <td>24.0</td>\n",
       "      <td>128.0</td>\n",
       "      <td>1</td>\n",
       "      <td>True</td>\n",
       "      <td>True</td>\n",
       "      <td>ortalamanın altında</td>\n",
       "    </tr>\n",
       "    <tr>\n",
       "      <th>1</th>\n",
       "      <td>ali</td>\n",
       "      <td>25.0</td>\n",
       "      <td>526.0</td>\n",
       "      <td>2</td>\n",
       "      <td>True</td>\n",
       "      <td>True</td>\n",
       "      <td>ortalamanın altında</td>\n",
       "    </tr>\n",
       "    <tr>\n",
       "      <th>2</th>\n",
       "      <td>ahmet</td>\n",
       "      <td>27.0</td>\n",
       "      <td>778.0</td>\n",
       "      <td>3</td>\n",
       "      <td>True</td>\n",
       "      <td>True</td>\n",
       "      <td>ortalamanın üstünde</td>\n",
       "    </tr>\n",
       "    <tr>\n",
       "      <th>3</th>\n",
       "      <td>mehmet</td>\n",
       "      <td>28.0</td>\n",
       "      <td>754.0</td>\n",
       "      <td>4</td>\n",
       "      <td>True</td>\n",
       "      <td>True</td>\n",
       "      <td>ortalamanın üstünde</td>\n",
       "    </tr>\n",
       "  </tbody>\n",
       "</table>\n",
       "</div>"
      ],
      "text/plain": [
       "     NAME   AGE   NOTE  YENI_FUTURE   BOL  TRUE/FALSE             ORTALAMA\n",
       "0   yunus  24.0  128.0            1  True        True  ortalamanın altında\n",
       "1     ali  25.0  526.0            2  True        True  ortalamanın altında\n",
       "2   ahmet  27.0  778.0            3  True        True  ortalamanın üstünde\n",
       "3  mehmet  28.0  754.0            4  True        True  ortalamanın üstünde"
      ]
     },
     "execution_count": 41,
     "metadata": {},
     "output_type": "execute_result"
    }
   ],
   "source": [
    "datafram1.columns = [ each.split(\" \")[0]+\"_\"+each.split(\" \")[1] if len(each.split(\" \"))>1 else each for each in datafram1.columns]\n",
    "datafram1"
   ]
  },
  {
   "cell_type": "code",
   "execution_count": 43,
   "id": "9995c07a",
   "metadata": {},
   "outputs": [
    {
     "data": {
      "text/html": [
       "<div>\n",
       "<style scoped>\n",
       "    .dataframe tbody tr th:only-of-type {\n",
       "        vertical-align: middle;\n",
       "    }\n",
       "\n",
       "    .dataframe tbody tr th {\n",
       "        vertical-align: top;\n",
       "    }\n",
       "\n",
       "    .dataframe thead th {\n",
       "        text-align: right;\n",
       "    }\n",
       "</style>\n",
       "<table border=\"1\" class=\"dataframe\">\n",
       "  <thead>\n",
       "    <tr style=\"text-align: right;\">\n",
       "      <th></th>\n",
       "      <th>NAME</th>\n",
       "      <th>AGE</th>\n",
       "      <th>NOTE</th>\n",
       "      <th>YENI_FUTURE</th>\n",
       "      <th>BOL</th>\n",
       "      <th>TRUE/FALSE</th>\n",
       "      <th>ORTALAMA</th>\n",
       "    </tr>\n",
       "  </thead>\n",
       "  <tbody>\n",
       "    <tr>\n",
       "      <th>0</th>\n",
       "      <td>yunus</td>\n",
       "      <td>24.0</td>\n",
       "      <td>128.0</td>\n",
       "      <td>1</td>\n",
       "      <td>True</td>\n",
       "      <td>True</td>\n",
       "      <td>ortalamanın altında</td>\n",
       "    </tr>\n",
       "    <tr>\n",
       "      <th>1</th>\n",
       "      <td>ali</td>\n",
       "      <td>25.0</td>\n",
       "      <td>526.0</td>\n",
       "      <td>2</td>\n",
       "      <td>True</td>\n",
       "      <td>True</td>\n",
       "      <td>ortalamanın altında</td>\n",
       "    </tr>\n",
       "    <tr>\n",
       "      <th>2</th>\n",
       "      <td>ahmet</td>\n",
       "      <td>27.0</td>\n",
       "      <td>778.0</td>\n",
       "      <td>3</td>\n",
       "      <td>True</td>\n",
       "      <td>True</td>\n",
       "      <td>ortalamanın üstünde</td>\n",
       "    </tr>\n",
       "    <tr>\n",
       "      <th>3</th>\n",
       "      <td>mehmet</td>\n",
       "      <td>28.0</td>\n",
       "      <td>754.0</td>\n",
       "      <td>4</td>\n",
       "      <td>True</td>\n",
       "      <td>True</td>\n",
       "      <td>ortalamanın üstünde</td>\n",
       "    </tr>\n",
       "    <tr>\n",
       "      <th>0</th>\n",
       "      <td>yunus</td>\n",
       "      <td>24.0</td>\n",
       "      <td>128.0</td>\n",
       "      <td>1</td>\n",
       "      <td>True</td>\n",
       "      <td>True</td>\n",
       "      <td>ortalamanın altında</td>\n",
       "    </tr>\n",
       "    <tr>\n",
       "      <th>1</th>\n",
       "      <td>ali</td>\n",
       "      <td>25.0</td>\n",
       "      <td>526.0</td>\n",
       "      <td>2</td>\n",
       "      <td>True</td>\n",
       "      <td>True</td>\n",
       "      <td>ortalamanın altında</td>\n",
       "    </tr>\n",
       "    <tr>\n",
       "      <th>2</th>\n",
       "      <td>ahmet</td>\n",
       "      <td>27.0</td>\n",
       "      <td>778.0</td>\n",
       "      <td>3</td>\n",
       "      <td>True</td>\n",
       "      <td>True</td>\n",
       "      <td>ortalamanın üstünde</td>\n",
       "    </tr>\n",
       "    <tr>\n",
       "      <th>3</th>\n",
       "      <td>mehmet</td>\n",
       "      <td>28.0</td>\n",
       "      <td>754.0</td>\n",
       "      <td>4</td>\n",
       "      <td>True</td>\n",
       "      <td>True</td>\n",
       "      <td>ortalamanın üstünde</td>\n",
       "    </tr>\n",
       "  </tbody>\n",
       "</table>\n",
       "</div>"
      ],
      "text/plain": [
       "     NAME   AGE   NOTE  YENI_FUTURE   BOL  TRUE/FALSE             ORTALAMA\n",
       "0   yunus  24.0  128.0            1  True        True  ortalamanın altında\n",
       "1     ali  25.0  526.0            2  True        True  ortalamanın altında\n",
       "2   ahmet  27.0  778.0            3  True        True  ortalamanın üstünde\n",
       "3  mehmet  28.0  754.0            4  True        True  ortalamanın üstünde\n",
       "0   yunus  24.0  128.0            1  True        True  ortalamanın altında\n",
       "1     ali  25.0  526.0            2  True        True  ortalamanın altında\n",
       "2   ahmet  27.0  778.0            3  True        True  ortalamanın üstünde\n",
       "3  mehmet  28.0  754.0            4  True        True  ortalamanın üstünde"
      ]
     },
     "execution_count": 43,
     "metadata": {},
     "output_type": "execute_result"
    }
   ],
   "source": [
    "data1 = datafram1.head()     \n",
    "data2 = datafram1.tail()\n",
    "data_concat = pd.concat([data1,data2],axis=0)\n",
    "data_concat\n"
   ]
  },
  {
   "cell_type": "code",
   "execution_count": 44,
   "id": "79aca6d5",
   "metadata": {},
   "outputs": [
    {
     "data": {
      "text/html": [
       "<div>\n",
       "<style scoped>\n",
       "    .dataframe tbody tr th:only-of-type {\n",
       "        vertical-align: middle;\n",
       "    }\n",
       "\n",
       "    .dataframe tbody tr th {\n",
       "        vertical-align: top;\n",
       "    }\n",
       "\n",
       "    .dataframe thead th {\n",
       "        text-align: right;\n",
       "    }\n",
       "</style>\n",
       "<table border=\"1\" class=\"dataframe\">\n",
       "  <thead>\n",
       "    <tr style=\"text-align: right;\">\n",
       "      <th></th>\n",
       "      <th>NAME</th>\n",
       "      <th>AGE</th>\n",
       "      <th>NOTE</th>\n",
       "      <th>YENI_FUTURE</th>\n",
       "      <th>BOL</th>\n",
       "      <th>TRUE/FALSE</th>\n",
       "      <th>ORTALAMA</th>\n",
       "      <th>NAME</th>\n",
       "      <th>AGE</th>\n",
       "      <th>NOTE</th>\n",
       "      <th>YENI_FUTURE</th>\n",
       "      <th>BOL</th>\n",
       "      <th>TRUE/FALSE</th>\n",
       "      <th>ORTALAMA</th>\n",
       "    </tr>\n",
       "  </thead>\n",
       "  <tbody>\n",
       "    <tr>\n",
       "      <th>0</th>\n",
       "      <td>yunus</td>\n",
       "      <td>24.0</td>\n",
       "      <td>128.0</td>\n",
       "      <td>1</td>\n",
       "      <td>True</td>\n",
       "      <td>True</td>\n",
       "      <td>ortalamanın altında</td>\n",
       "      <td>yunus</td>\n",
       "      <td>24.0</td>\n",
       "      <td>128.0</td>\n",
       "      <td>1</td>\n",
       "      <td>True</td>\n",
       "      <td>True</td>\n",
       "      <td>ortalamanın altında</td>\n",
       "    </tr>\n",
       "    <tr>\n",
       "      <th>1</th>\n",
       "      <td>ali</td>\n",
       "      <td>25.0</td>\n",
       "      <td>526.0</td>\n",
       "      <td>2</td>\n",
       "      <td>True</td>\n",
       "      <td>True</td>\n",
       "      <td>ortalamanın altında</td>\n",
       "      <td>ali</td>\n",
       "      <td>25.0</td>\n",
       "      <td>526.0</td>\n",
       "      <td>2</td>\n",
       "      <td>True</td>\n",
       "      <td>True</td>\n",
       "      <td>ortalamanın altında</td>\n",
       "    </tr>\n",
       "    <tr>\n",
       "      <th>2</th>\n",
       "      <td>ahmet</td>\n",
       "      <td>27.0</td>\n",
       "      <td>778.0</td>\n",
       "      <td>3</td>\n",
       "      <td>True</td>\n",
       "      <td>True</td>\n",
       "      <td>ortalamanın üstünde</td>\n",
       "      <td>ahmet</td>\n",
       "      <td>27.0</td>\n",
       "      <td>778.0</td>\n",
       "      <td>3</td>\n",
       "      <td>True</td>\n",
       "      <td>True</td>\n",
       "      <td>ortalamanın üstünde</td>\n",
       "    </tr>\n",
       "    <tr>\n",
       "      <th>3</th>\n",
       "      <td>mehmet</td>\n",
       "      <td>28.0</td>\n",
       "      <td>754.0</td>\n",
       "      <td>4</td>\n",
       "      <td>True</td>\n",
       "      <td>True</td>\n",
       "      <td>ortalamanın üstünde</td>\n",
       "      <td>mehmet</td>\n",
       "      <td>28.0</td>\n",
       "      <td>754.0</td>\n",
       "      <td>4</td>\n",
       "      <td>True</td>\n",
       "      <td>True</td>\n",
       "      <td>ortalamanın üstünde</td>\n",
       "    </tr>\n",
       "  </tbody>\n",
       "</table>\n",
       "</div>"
      ],
      "text/plain": [
       "     NAME   AGE   NOTE  YENI_FUTURE   BOL  TRUE/FALSE             ORTALAMA  \\\n",
       "0   yunus  24.0  128.0            1  True        True  ortalamanın altında   \n",
       "1     ali  25.0  526.0            2  True        True  ortalamanın altında   \n",
       "2   ahmet  27.0  778.0            3  True        True  ortalamanın üstünde   \n",
       "3  mehmet  28.0  754.0            4  True        True  ortalamanın üstünde   \n",
       "\n",
       "     NAME   AGE   NOTE  YENI_FUTURE   BOL  TRUE/FALSE             ORTALAMA  \n",
       "0   yunus  24.0  128.0            1  True        True  ortalamanın altında  \n",
       "1     ali  25.0  526.0            2  True        True  ortalamanın altında  \n",
       "2   ahmet  27.0  778.0            3  True        True  ortalamanın üstünde  \n",
       "3  mehmet  28.0  754.0            4  True        True  ortalamanın üstünde  "
      ]
     },
     "execution_count": 44,
     "metadata": {},
     "output_type": "execute_result"
    }
   ],
   "source": [
    "data_contact2 = pd.concat([data1,data2],axis=1)\n",
    "data_contact2"
   ]
  },
  {
   "cell_type": "code",
   "execution_count": 45,
   "id": "6b5416f5",
   "metadata": {},
   "outputs": [
    {
     "data": {
      "text/html": [
       "<div>\n",
       "<style scoped>\n",
       "    .dataframe tbody tr th:only-of-type {\n",
       "        vertical-align: middle;\n",
       "    }\n",
       "\n",
       "    .dataframe tbody tr th {\n",
       "        vertical-align: top;\n",
       "    }\n",
       "\n",
       "    .dataframe thead th {\n",
       "        text-align: right;\n",
       "    }\n",
       "</style>\n",
       "<table border=\"1\" class=\"dataframe\">\n",
       "  <thead>\n",
       "    <tr style=\"text-align: right;\">\n",
       "      <th></th>\n",
       "      <th>NAME</th>\n",
       "      <th>AGE</th>\n",
       "      <th>NOTE</th>\n",
       "      <th>YENI_FUTURE</th>\n",
       "      <th>BOL</th>\n",
       "      <th>TRUE/FALSE</th>\n",
       "      <th>ORTALAMA</th>\n",
       "      <th>buyuk_yas</th>\n",
       "    </tr>\n",
       "  </thead>\n",
       "  <tbody>\n",
       "    <tr>\n",
       "      <th>0</th>\n",
       "      <td>yunus</td>\n",
       "      <td>24.0</td>\n",
       "      <td>128.0</td>\n",
       "      <td>1</td>\n",
       "      <td>True</td>\n",
       "      <td>True</td>\n",
       "      <td>ortalamanın altında</td>\n",
       "      <td>48.0</td>\n",
       "    </tr>\n",
       "    <tr>\n",
       "      <th>1</th>\n",
       "      <td>ali</td>\n",
       "      <td>25.0</td>\n",
       "      <td>526.0</td>\n",
       "      <td>2</td>\n",
       "      <td>True</td>\n",
       "      <td>True</td>\n",
       "      <td>ortalamanın altında</td>\n",
       "      <td>50.0</td>\n",
       "    </tr>\n",
       "    <tr>\n",
       "      <th>2</th>\n",
       "      <td>ahmet</td>\n",
       "      <td>27.0</td>\n",
       "      <td>778.0</td>\n",
       "      <td>3</td>\n",
       "      <td>True</td>\n",
       "      <td>True</td>\n",
       "      <td>ortalamanın üstünde</td>\n",
       "      <td>54.0</td>\n",
       "    </tr>\n",
       "    <tr>\n",
       "      <th>3</th>\n",
       "      <td>mehmet</td>\n",
       "      <td>28.0</td>\n",
       "      <td>754.0</td>\n",
       "      <td>4</td>\n",
       "      <td>True</td>\n",
       "      <td>True</td>\n",
       "      <td>ortalamanın üstünde</td>\n",
       "      <td>56.0</td>\n",
       "    </tr>\n",
       "  </tbody>\n",
       "</table>\n",
       "</div>"
      ],
      "text/plain": [
       "     NAME   AGE   NOTE  YENI_FUTURE   BOL  TRUE/FALSE             ORTALAMA  \\\n",
       "0   yunus  24.0  128.0            1  True        True  ortalamanın altında   \n",
       "1     ali  25.0  526.0            2  True        True  ortalamanın altında   \n",
       "2   ahmet  27.0  778.0            3  True        True  ortalamanın üstünde   \n",
       "3  mehmet  28.0  754.0            4  True        True  ortalamanın üstünde   \n",
       "\n",
       "   buyuk_yas  \n",
       "0       48.0  \n",
       "1       50.0  \n",
       "2       54.0  \n",
       "3       56.0  "
      ]
     },
     "execution_count": 45,
     "metadata": {},
     "output_type": "execute_result"
    }
   ],
   "source": [
    "datafram1[\"buyuk_yas\"] = [each*2 for each in datafram1.AGE]\n",
    "datafram1"
   ]
  },
  {
   "cell_type": "code",
   "execution_count": 46,
   "id": "72b08c1f",
   "metadata": {},
   "outputs": [
    {
     "data": {
      "text/html": [
       "<div>\n",
       "<style scoped>\n",
       "    .dataframe tbody tr th:only-of-type {\n",
       "        vertical-align: middle;\n",
       "    }\n",
       "\n",
       "    .dataframe tbody tr th {\n",
       "        vertical-align: top;\n",
       "    }\n",
       "\n",
       "    .dataframe thead th {\n",
       "        text-align: right;\n",
       "    }\n",
       "</style>\n",
       "<table border=\"1\" class=\"dataframe\">\n",
       "  <thead>\n",
       "    <tr style=\"text-align: right;\">\n",
       "      <th></th>\n",
       "      <th>NAME</th>\n",
       "      <th>AGE</th>\n",
       "      <th>NOTE</th>\n",
       "      <th>YENI_FUTURE</th>\n",
       "      <th>BOL</th>\n",
       "      <th>TRUE/FALSE</th>\n",
       "      <th>ORTALAMA</th>\n",
       "      <th>buyuk_yas</th>\n",
       "      <th>apply_metodu</th>\n",
       "    </tr>\n",
       "  </thead>\n",
       "  <tbody>\n",
       "    <tr>\n",
       "      <th>0</th>\n",
       "      <td>yunus</td>\n",
       "      <td>24.0</td>\n",
       "      <td>128.0</td>\n",
       "      <td>1</td>\n",
       "      <td>True</td>\n",
       "      <td>True</td>\n",
       "      <td>ortalamanın altında</td>\n",
       "      <td>48.0</td>\n",
       "      <td>48.0</td>\n",
       "    </tr>\n",
       "    <tr>\n",
       "      <th>1</th>\n",
       "      <td>ali</td>\n",
       "      <td>25.0</td>\n",
       "      <td>526.0</td>\n",
       "      <td>2</td>\n",
       "      <td>True</td>\n",
       "      <td>True</td>\n",
       "      <td>ortalamanın altında</td>\n",
       "      <td>50.0</td>\n",
       "      <td>50.0</td>\n",
       "    </tr>\n",
       "    <tr>\n",
       "      <th>2</th>\n",
       "      <td>ahmet</td>\n",
       "      <td>27.0</td>\n",
       "      <td>778.0</td>\n",
       "      <td>3</td>\n",
       "      <td>True</td>\n",
       "      <td>True</td>\n",
       "      <td>ortalamanın üstünde</td>\n",
       "      <td>54.0</td>\n",
       "      <td>54.0</td>\n",
       "    </tr>\n",
       "    <tr>\n",
       "      <th>3</th>\n",
       "      <td>mehmet</td>\n",
       "      <td>28.0</td>\n",
       "      <td>754.0</td>\n",
       "      <td>4</td>\n",
       "      <td>True</td>\n",
       "      <td>True</td>\n",
       "      <td>ortalamanın üstünde</td>\n",
       "      <td>56.0</td>\n",
       "      <td>56.0</td>\n",
       "    </tr>\n",
       "  </tbody>\n",
       "</table>\n",
       "</div>"
      ],
      "text/plain": [
       "     NAME   AGE   NOTE  YENI_FUTURE   BOL  TRUE/FALSE             ORTALAMA  \\\n",
       "0   yunus  24.0  128.0            1  True        True  ortalamanın altında   \n",
       "1     ali  25.0  526.0            2  True        True  ortalamanın altında   \n",
       "2   ahmet  27.0  778.0            3  True        True  ortalamanın üstünde   \n",
       "3  mehmet  28.0  754.0            4  True        True  ortalamanın üstünde   \n",
       "\n",
       "   buyuk_yas  apply_metodu  \n",
       "0       48.0          48.0  \n",
       "1       50.0          50.0  \n",
       "2       54.0          54.0  \n",
       "3       56.0          56.0  "
      ]
     },
     "execution_count": 46,
     "metadata": {},
     "output_type": "execute_result"
    }
   ],
   "source": [
    "def mlt(yas):\n",
    "    return yas*2\n",
    "datafram1[\"apply_metodu\"] = datafram1.AGE.apply(mlt)\n",
    "datafram1"
   ]
  },
  {
   "cell_type": "code",
   "execution_count": null,
   "id": "bcfb0ec1",
   "metadata": {},
   "outputs": [],
   "source": []
  }
 ],
 "metadata": {
  "kernelspec": {
   "display_name": "Python 3 (ipykernel)",
   "language": "python",
   "name": "python3"
  },
  "language_info": {
   "codemirror_mode": {
    "name": "ipython",
    "version": 3
   },
   "file_extension": ".py",
   "mimetype": "text/x-python",
   "name": "python",
   "nbconvert_exporter": "python",
   "pygments_lexer": "ipython3",
   "version": "3.11.2"
  }
 },
 "nbformat": 4,
 "nbformat_minor": 5
}
