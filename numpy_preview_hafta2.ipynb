{
 "cells": [
  {
   "cell_type": "code",
   "execution_count": 2,
   "id": "587a1aeb",
   "metadata": {},
   "outputs": [
    {
     "name": "stdout",
     "output_type": "stream",
     "text": [
      "Requirement already satisfied: numpy in c:\\users\\yunus\\appdata\\local\\programs\\python\\python311\\lib\\site-packages (1.24.2)\n"
     ]
    }
   ],
   "source": [
    "!pip install numpy\n"
   ]
  },
  {
   "cell_type": "code",
   "execution_count": 3,
   "id": "a00a7694",
   "metadata": {},
   "outputs": [],
   "source": [
    "import numpy as np"
   ]
  },
  {
   "cell_type": "code",
   "execution_count": 4,
   "id": "459ccad5",
   "metadata": {},
   "outputs": [
    {
     "name": "stdout",
     "output_type": "stream",
     "text": [
      "[1 5 9]\n"
     ]
    }
   ],
   "source": [
    "dizi = np.array([1,5,9])\n",
    "print(dizi)"
   ]
  },
  {
   "cell_type": "code",
   "execution_count": 5,
   "id": "df09370e",
   "metadata": {},
   "outputs": [
    {
     "name": "stdout",
     "output_type": "stream",
     "text": [
      "(14,)\n",
      "[[ 1  5  7  5  8  7 15]\n",
      " [ 9 44 18 12 25 14 39]]\n",
      "shape:  (2, 7)\n",
      "dimension:  2\n",
      "data type:  int32\n",
      "size:  14\n",
      "type <class 'numpy.ndarray'>\n"
     ]
    }
   ],
   "source": [
    "dizi2= np.array([1,5,7,5,8,7,15,9,44,18,12,25,14,39])\n",
    "print(dizi2.shape)\n",
    "bol = dizi2.reshape(2,7) \n",
    "print(bol)\n",
    "print(\"shape: \",bol.shape) \n",
    "print(\"dimension: \",bol.ndim) \n",
    "print(\"data type: \",bol.dtype.name) \n",
    "print(\"size: \",bol.size) \n",
    "print(\"type\",type(bol))"
   ]
  },
  {
   "cell_type": "code",
   "execution_count": 6,
   "id": "9b5ab4bd",
   "metadata": {},
   "outputs": [
    {
     "name": "stdout",
     "output_type": "stream",
     "text": [
      "[[ 1  5  7  5  8  7 15]\n",
      " [ 9 44 18 12 25 14 39]]\n",
      "(2, 7)\n"
     ]
    }
   ],
   "source": [
    "dizi3= np.array([[ 1,5,7,5,8,7,15],[9,44,18,12,25,14,39]])\n",
    "print(dizi3)\n",
    "print(dizi3.shape)\n"
   ]
  },
  {
   "cell_type": "code",
   "execution_count": 7,
   "id": "d48493d5",
   "metadata": {},
   "outputs": [
    {
     "name": "stdout",
     "output_type": "stream",
     "text": [
      "[[1. 0. 0. 0.]\n",
      " [0. 0. 0. 0.]\n",
      " [0. 0. 0. 0.]]\n"
     ]
    }
   ],
   "source": [
    "dizi4= np.zeros((3,4))\n",
    "dizi4[0,0]=1\n",
    "print(dizi4)"
   ]
  },
  {
   "cell_type": "code",
   "execution_count": 8,
   "id": "8efd4161",
   "metadata": {},
   "outputs": [
    {
     "name": "stdout",
     "output_type": "stream",
     "text": [
      "[[1. 1. 1. 1.]\n",
      " [1. 1. 1. 1.]\n",
      " [1. 1. 1. 1.]]\n",
      "[[6.23042070e-307 4.67296746e-307 1.69121096e-306 1.33512376e-306\n",
      "  1.89146896e-307]\n",
      " [7.56571288e-307 3.11525958e-307 1.24610723e-306 1.37962320e-306\n",
      "  1.29060871e-306]\n",
      " [2.22518251e-306 1.33511969e-306 1.78022342e-306 1.05700345e-307\n",
      "  3.11525958e-307]\n",
      " [1.69118108e-306 8.06632139e-308 1.20160711e-306 1.69119330e-306\n",
      "  1.29062229e-306]]\n",
      "[100 200 300 400 500 600 700 800 900]\n"
     ]
    }
   ],
   "source": [
    "dizi5=np.ones((3,4))\n",
    "print(dizi5)\n",
    "dizi6=np.empty((4,5))\n",
    "print(dizi6)\n",
    "dizi6=np.arange(100,1000,100)\n",
    "print(dizi6)"
   ]
  },
  {
   "cell_type": "code",
   "execution_count": 18,
   "id": "81220c1a",
   "metadata": {},
   "outputs": [
    {
     "name": "stdout",
     "output_type": "stream",
     "text": [
      "[ 0.          0.34482759  0.68965517  1.03448276  1.37931034  1.72413793\n",
      "  2.06896552  2.4137931   2.75862069  3.10344828  3.44827586  3.79310345\n",
      "  4.13793103  4.48275862  4.82758621  5.17241379  5.51724138  5.86206897\n",
      "  6.20689655  6.55172414  6.89655172  7.24137931  7.5862069   7.93103448\n",
      "  8.27586207  8.62068966  8.96551724  9.31034483  9.65517241 10.        ]\n",
      "[ 6 10 14]\n",
      "[4 4 4]\n",
      "[25 49 81]\n",
      "[1, 2, 3, 4]\n",
      "[5 6 7 8]\n",
      "[1 2 3 4]\n",
      "[1, 2, 3, 4]\n"
     ]
    }
   ],
   "source": [
    "dizi7= np.linspace(0,10,30)\n",
    "print(dizi7)\n",
    "dizi8= np.array([5,7,9])\n",
    "dizi9= np.array([1,3,5])\n",
    "print(dizi8+dizi9) \n",
    "print(dizi8-dizi9) \n",
    "print(dizi8**2) \n",
    "list1 = [1,2,3,4]\n",
    "dizi10 = np.array([5,6,7,8])\n",
    "print(list1)\n",
    "print(dizi10)\n",
    "dizi11 = np.array(list1)\n",
    "print(dizi11)\n",
    "liste2 = dizi11.tolist()\n",
    "print(liste2)"
   ]
  },
  {
   "cell_type": "code",
   "execution_count": 22,
   "id": "cdf40ee8",
   "metadata": {},
   "outputs": [
    {
     "name": "stdout",
     "output_type": "stream",
     "text": [
      "[1 2 3]\n",
      "[1 8 3] [1 8 3] [1 8 3]\n"
     ]
    }
   ],
   "source": [
    "a = np.array([1,2,3])\n",
    "print(a)\n",
    "b=a\n",
    "c=a\n",
    "c[1]=8 \n",
    "print(a,b,c)"
   ]
  },
  {
   "cell_type": "code",
   "execution_count": 24,
   "id": "36bc7464",
   "metadata": {},
   "outputs": [
    {
     "name": "stdout",
     "output_type": "stream",
     "text": [
      "[1 8 3]\n"
     ]
    }
   ],
   "source": [
    "d = a.copy()\n",
    "print(d)"
   ]
  },
  {
   "cell_type": "code",
   "execution_count": 27,
   "id": "3aa43dc3",
   "metadata": {},
   "outputs": [
    {
     "name": "stdout",
     "output_type": "stream",
     "text": [
      "[ 1  3  5  9 11 13 15]\n",
      "1\n",
      "[1 3 5 9]\n",
      "[15 13 11  9  5  3  1]\n"
     ]
    }
   ],
   "source": [
    "dizi12= np.array([1,3,5,9,11,13,15])\n",
    "print(dizi12)\n",
    "print(dizi12[0])\n",
    "print(dizi12[0:4])\n",
    "reverse_array = dizi12[::-1]\n",
    "print(reverse_array)"
   ]
  },
  {
   "cell_type": "code",
   "execution_count": 28,
   "id": "4206ab14",
   "metadata": {},
   "outputs": [
    {
     "name": "stdout",
     "output_type": "stream",
     "text": [
      "[[ 1  3  5  7  9]\n",
      " [11 13 15 19 21]]\n"
     ]
    }
   ],
   "source": [
    "b = np.array([[1,3,5,7,9],[11,13,15,19,21]]) \n",
    "print(b)"
   ]
  },
  {
   "cell_type": "code",
   "execution_count": 29,
   "id": "157145fa",
   "metadata": {},
   "outputs": [
    {
     "name": "stdout",
     "output_type": "stream",
     "text": [
      "13\n",
      "[ 3 13]\n",
      "[11 13 15 19 21]\n",
      "[13 15 19]\n",
      "[11 13 15 19 21]\n",
      "[ 9 21]\n"
     ]
    }
   ],
   "source": [
    "print(b[3,3]) \n",
    "print(b[:,1]) \n",
    "print(b[1,:]) \n",
    "print(b[1,1:4]) \n",
    "print(b[-1,:])\n",
    "print(b[:,-1])"
   ]
  },
  {
   "cell_type": "code",
   "execution_count": 30,
   "id": "e1d974cb",
   "metadata": {},
   "outputs": [
    {
     "name": "stdout",
     "output_type": "stream",
     "text": [
      "[[ 1  3  5]\n",
      " [ 7  9 11]\n",
      " [13 15 17]]\n"
     ]
    }
   ],
   "source": [
    "array1 = np.array([[1,3,5],[7,9,11],[13,15,17]])\n",
    "print(array1)"
   ]
  },
  {
   "cell_type": "code",
   "execution_count": 31,
   "id": "e7393d6a",
   "metadata": {},
   "outputs": [
    {
     "name": "stdout",
     "output_type": "stream",
     "text": [
      "[ 1  3  5  7  9 11 13 15 17]\n"
     ]
    }
   ],
   "source": [
    "array1ravel = array1.ravel()\n",
    "print(array1ravel)"
   ]
  },
  {
   "cell_type": "code",
   "execution_count": 32,
   "id": "df5a81ad",
   "metadata": {},
   "outputs": [
    {
     "name": "stdout",
     "output_type": "stream",
     "text": [
      "[[ 1  3  5]\n",
      " [ 7  9 11]\n",
      " [13 15 17]]\n"
     ]
    }
   ],
   "source": [
    "array2 = array1ravel.reshape(3,3) \n",
    "print(array2)"
   ]
  },
  {
   "cell_type": "code",
   "execution_count": 33,
   "id": "a758a2be",
   "metadata": {},
   "outputs": [
    {
     "name": "stdout",
     "output_type": "stream",
     "text": [
      "[[ 1  7 13]\n",
      " [ 3  9 15]\n",
      " [ 5 11 17]]\n"
     ]
    }
   ],
   "source": [
    "array_transpose = array2.T\n",
    "print(array_transpose)"
   ]
  },
  {
   "cell_type": "code",
   "execution_count": 34,
   "id": "8399e248",
   "metadata": {},
   "outputs": [
    {
     "name": "stdout",
     "output_type": "stream",
     "text": [
      "[[ 1  3]\n",
      " [ 5  7]\n",
      " [ 9 11]]\n"
     ]
    }
   ],
   "source": [
    "array3 = np.array([[1,3],[5,7],[9,11]])\n",
    "print(array3)"
   ]
  },
  {
   "cell_type": "code",
   "execution_count": 36,
   "id": "6392fc52",
   "metadata": {},
   "outputs": [
    {
     "name": "stdout",
     "output_type": "stream",
     "text": [
      "[[ 1  3  5  7  9 11]]\n"
     ]
    }
   ],
   "source": [
    "array3.resize((1,6)) \n",
    "print(array3)"
   ]
  },
  {
   "cell_type": "code",
   "execution_count": null,
   "id": "42a63450",
   "metadata": {},
   "outputs": [],
   "source": []
  }
 ],
 "metadata": {
  "kernelspec": {
   "display_name": "Python 3 (ipykernel)",
   "language": "python",
   "name": "python3"
  },
  "language_info": {
   "codemirror_mode": {
    "name": "ipython",
    "version": 3
   },
   "file_extension": ".py",
   "mimetype": "text/x-python",
   "name": "python",
   "nbconvert_exporter": "python",
   "pygments_lexer": "ipython3",
   "version": "3.11.2"
  }
 },
 "nbformat": 4,
 "nbformat_minor": 5
}
